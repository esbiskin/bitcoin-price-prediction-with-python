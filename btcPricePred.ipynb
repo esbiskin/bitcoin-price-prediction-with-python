{
  "nbformat": 4,
  "nbformat_minor": 0,
  "metadata": {
    "colab": {
      "name": "btcPricePred.ipynb",
      "provenance": [],
      "collapsed_sections": []
    },
    "kernelspec": {
      "name": "python3",
      "display_name": "Python 3"
    }
  },
  "cells": [
    {
      "cell_type": "code",
      "metadata": {
        "id": "R5sbeaKb8l--"
      },
      "source": [
        "import pandas as pd\r\n",
        "from fbprophet import Prophet"
      ],
      "execution_count": null,
      "outputs": []
    },
    {
      "cell_type": "code",
      "metadata": {
        "id": "1uwtVs1I8uNP"
      },
      "source": [
        "df = pd.read_csv('/content/BTC-USD.csv')\r\n",
        "df = df[[\"Date\", \"Close\"]]\r\n",
        "df.columns = [\"ds\", \"y\"]\r\n",
        "print(df)"
      ],
      "execution_count": null,
      "outputs": []
    },
    {
      "cell_type": "code",
      "metadata": {
        "id": "KxUcl7zm9HAv"
      },
      "source": [
        "prophet = Prophet()\r\n",
        "prophet.fit(df)"
      ],
      "execution_count": null,
      "outputs": []
    },
    {
      "cell_type": "code",
      "metadata": {
        "id": "-wYlSjWU9Obc"
      },
      "source": [
        "future = prophet.make_future_dataframe(periods=365)\r\n",
        "print(future)"
      ],
      "execution_count": null,
      "outputs": []
    },
    {
      "cell_type": "code",
      "metadata": {
        "id": "Svm3G7KF9SJG"
      },
      "source": [
        "forecast = prophet.predict(future)\r\n",
        "forecast[[\"ds\", \"yhat\", \"yhat_lower\", \"yhat_upper\"]].tail(200)"
      ],
      "execution_count": null,
      "outputs": []
    },
    {
      "cell_type": "code",
      "metadata": {
        "id": "X-QEB0sz9WVN"
      },
      "source": [
        "from fbprophet.plot import plot\r\n",
        "prophet.plot(forecast, figsize=(20, 10))"
      ],
      "execution_count": null,
      "outputs": []
    }
  ]
}